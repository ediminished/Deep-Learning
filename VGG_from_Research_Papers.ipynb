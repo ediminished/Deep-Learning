{
  "nbformat": 4,
  "nbformat_minor": 0,
  "metadata": {
    "colab": {
      "name": "VGG from Research Papers.ipynb",
      "provenance": [],
      "authorship_tag": "ABX9TyOohPnqakbZOz/bYv5Nv2j2",
      "include_colab_link": true
    },
    "kernelspec": {
      "name": "python3",
      "display_name": "Python 3"
    },
    "language_info": {
      "name": "python"
    }
  },
  "cells": [
    {
      "cell_type": "markdown",
      "metadata": {
        "id": "view-in-github",
        "colab_type": "text"
      },
      "source": [
        "<a href=\"https://colab.research.google.com/github/ediminished/Deep-Learning/blob/main/VGG_from_Research_Papers.ipynb\" target=\"_parent\"><img src=\"https://colab.research.google.com/assets/colab-badge.svg\" alt=\"Open In Colab\"/></a>"
      ]
    },
    {
      "cell_type": "code",
      "metadata": {
        "id": "e7fJjHV3Scft"
      },
      "source": [
        "import torch\n",
        "import torch.nn as nn\n",
        "import torch.optim as optim\n",
        "import torchvision.transforms as transforms\n",
        "import torch.nn.functional as F\n",
        "import torchvision.datasets as datasets\n",
        "from torch.utils.data import DataLoader\n",
        "import tqdm"
      ],
      "execution_count": 3,
      "outputs": []
    },
    {
      "cell_type": "markdown",
      "metadata": {
        "id": "2kmwOrozXyHX"
      },
      "source": [
        "## Model\n",
        "```https://arxiv.org/pdf/1409.1556.pdf```"
      ]
    },
    {
      "cell_type": "code",
      "metadata": {
        "colab": {
          "base_uri": "https://localhost:8080/"
        },
        "id": "7J7TtEIgVTD_",
        "outputId": "cc2d093c-8791-4357-d4e1-0d3e95c3085f"
      },
      "source": [
        "# image size: 224 x 224\n",
        "VGG_types = {\n",
        "    \"VGG-16\": [64, 64, \"M\", 128, 128, \"M\", 256, 256, 256, \"M\", 512, 512, 512, \"M\", 512, 512, 512, \"M\"] #final shape (N, 512, 7, 7)\n",
        "} \n",
        "\n",
        "class VGG_net(nn.Module):\n",
        "  def __init__(self, in_channels=3, num_classes=5):\n",
        "    super().__init__()\n",
        "    self.in_channels = in_channels\n",
        "    self.num_classes = num_classes\n",
        "    self.conv_layers = self.create_conv_layers(VGG_types[\"VGG-16\"])\n",
        "    self.fcs = nn.Sequential(\n",
        "        nn.Linear(in_features=512*7*7, out_features=4096),\n",
        "        nn.ReLU(),\n",
        "        nn.Dropout(),\n",
        "        nn.Linear(in_features=4096, out_features=4096),\n",
        "        nn.ReLU(),\n",
        "        nn.Dropout(),\n",
        "        nn.Linear(in_features=4096, out_features=self.num_classes)\n",
        "    )\n",
        "  def forward(self, x):\n",
        "    x = self.conv_layers(x)\n",
        "    x = x.view(x.size(0), -1)\n",
        "    x = self.fcs(x)\n",
        "    return x\n",
        "\n",
        "  def create_conv_layers(self, architecture):\n",
        "    layers = []\n",
        "    in_channels = self.in_channels\n",
        "\n",
        "    for x in architecture:\n",
        "      if type(x) == int:\n",
        "        out_channels = x\n",
        "        layers += [nn.Conv2d(in_channels=in_channels, out_channels=out_channels, kernel_size=3, stride=1, padding=1),nn.BatchNorm2d(out_channels), nn.ReLU()]\n",
        "        in_channels = x\n",
        "      elif x == \"M\":\n",
        "        layers += [nn.MaxPool2d(kernel_size=2, stride=2)]\n",
        "    return nn.Sequential(*layers)\n",
        "\n",
        "model = VGG_net(in_channels=3, num_classes=5)\n",
        "x = torch.randn(64, 3, 224, 224)\n",
        "print(model(x).shape)\n"
      ],
      "execution_count": 14,
      "outputs": [
        {
          "output_type": "stream",
          "text": [
            "torch.Size([64, 5])\n"
          ],
          "name": "stdout"
        }
      ]
    }
  ]
}